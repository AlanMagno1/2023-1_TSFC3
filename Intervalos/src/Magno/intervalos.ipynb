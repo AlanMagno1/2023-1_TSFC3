{
 "cells": [
  {
   "cell_type": "code",
   "execution_count": 1,
   "id": "6a1bd8da",
   "metadata": {},
   "outputs": [],
   "source": [
    "import Base: ==, isempty,⊆, ∪, ∩, ∈, ∉, +, -, *, ^, iszero, /, inv"
   ]
  },
  {
   "cell_type": "code",
   "execution_count": 2,
   "id": "c3150abb",
   "metadata": {},
   "outputs": [],
   "source": [
    "export Intervalo, intervalo_vacio, ⪽, ⊔, division_extendida"
   ]
  },
  {
   "cell_type": "code",
   "execution_count": 3,
   "id": "68f5541f",
   "metadata": {},
   "outputs": [],
   "source": [
    "struct Intervalo{T<:Real}\n",
    "    infimo::T\n",
    "    supremo::T\n",
    "    \n",
    "    function Intervalo(infimo,supremo)\n",
    "        infimo1, supremo1, _ = promote(infimo, supremo, 1.0) \n",
    "        infimo1 > supremo1  ? error(\"Supremo es menor que el ínfimo\") : new{typeof(infimo1)}(infimo1,supremo1)\n",
    "    end\n",
    "end"
   ]
  },
  {
   "cell_type": "code",
   "execution_count": 4,
   "id": "c72f112b",
   "metadata": {},
   "outputs": [
    {
     "data": {
      "text/plain": [
       "Intervalo"
      ]
     },
     "metadata": {},
     "output_type": "display_data"
    }
   ],
   "source": [
    "Intervalo(infimo) = Intervalo(infimo,infimo) "
   ]
  },
  {
   "cell_type": "code",
   "execution_count": 5,
   "id": "c50d8fcd",
   "metadata": {},
   "outputs": [
    {
     "data": {
      "text/plain": [
       "intervalo_vacio (generic function with 2 methods)"
      ]
     },
     "metadata": {},
     "output_type": "display_data"
    }
   ],
   "source": [
    "function intervalo_vacio(T::Type)\n",
    "        return Intervalo(T(NaN))\n",
    "end\n",
    "    \n",
    "function intervalo_vacio(a::Intervalo{T}) where T <: Real\n",
    "    return intervalo_vacio(T)\n",
    "end"
   ]
  },
  {
   "cell_type": "code",
   "execution_count": 6,
   "id": "8f389dd7",
   "metadata": {},
   "outputs": [
    {
     "data": {
      "text/plain": [
       "isempty (generic function with 39 methods)"
      ]
     },
     "metadata": {},
     "output_type": "display_data"
    }
   ],
   "source": [
    "function isempty(a::Intervalo)\n",
    "    isnan(a.infimo) && isnan(a.supremo) && return true\n",
    "    return false \n",
    "end"
   ]
  },
  {
   "cell_type": "code",
   "execution_count": 7,
   "id": "f10e9f06",
   "metadata": {},
   "outputs": [
    {
     "data": {
      "text/plain": [
       "== (generic function with 172 methods)"
      ]
     },
     "metadata": {},
     "output_type": "display_data"
    }
   ],
   "source": [
    "function ==(a::Intervalo, b::Intervalo)\n",
    "    isempty(a) && isempty(b) && return true\n",
    "    a.infimo == b.infimo && a.supremo == b.supremo\n",
    "end"
   ]
  },
  {
   "cell_type": "code",
   "execution_count": 8,
   "id": "3c279d66",
   "metadata": {},
   "outputs": [
    {
     "data": {
      "text/plain": [
       "issubset (generic function with 5 methods)"
      ]
     },
     "metadata": {},
     "output_type": "display_data"
    }
   ],
   "source": [
    "function ⊆(a::Intervalo, b::Intervalo)\n",
    "    isempty(a) && return true\n",
    "    b.infimo ≤ a.infimo && a.supremo ≤ b.supremo\n",
    "end"
   ]
  },
  {
   "cell_type": "code",
   "execution_count": 9,
   "id": "d85cfd49",
   "metadata": {},
   "outputs": [
    {
     "data": {
      "text/plain": [
       "⪽ (generic function with 1 method)"
      ]
     },
     "metadata": {},
     "output_type": "display_data"
    }
   ],
   "source": [
    "function ⪽(a::Intervalo, b::Intervalo)\n",
    "    isempty(a) && return true\n",
    "    b.infimo < a.infimo && a.supremo < b.supremo\n",
    "end"
   ]
  },
  {
   "cell_type": "code",
   "execution_count": 10,
   "id": "fb7d1a00",
   "metadata": {},
   "outputs": [
    {
     "data": {
      "text/plain": [
       "union (generic function with 6 methods)"
      ]
     },
     "metadata": {},
     "output_type": "display_data"
    }
   ],
   "source": [
    "function ∪(a::Intervalo, b::Intervalo)\n",
    "    isempty(a) && return(b)\n",
    "    isempty(b) && return(a)\n",
    "    return Intervalo(min(a.infimo,b.infimo),max(a.supremo,b.supremo))\n",
    "end"
   ]
  },
  {
   "cell_type": "code",
   "execution_count": 11,
   "id": "b5380751",
   "metadata": {},
   "outputs": [
    {
     "data": {
      "text/plain": [
       "⊔ (generic function with 1 method)"
      ]
     },
     "metadata": {},
     "output_type": "display_data"
    }
   ],
   "source": [
    "function ⊔(a::Intervalo, b::Intervalo)\n",
    "    return a∪b \n",
    "end"
   ]
  },
  {
   "cell_type": "code",
   "execution_count": 12,
   "id": "40c2a6a3",
   "metadata": {},
   "outputs": [
    {
     "data": {
      "text/plain": [
       "intersect (generic function with 23 methods)"
      ]
     },
     "metadata": {},
     "output_type": "display_data"
    }
   ],
   "source": [
    "function ∩(a::Intervalo, b::Intervalo)\n",
    "    isempty(a) && return a\n",
    "    isempty(b) && return b\n",
    "    b.supremo < a.infimo && return Intervalo(NaN)\n",
    "    a.supremo < b.infimo && return Intervalo(NaN)\n",
    "    return Intervalo(max(a.infimo,b.infimo),min(a.supremo,b.supremo))\n",
    "end"
   ]
  },
  {
   "cell_type": "code",
   "execution_count": 13,
   "id": "12f04a98",
   "metadata": {},
   "outputs": [
    {
     "data": {
      "text/plain": [
       "in (generic function with 37 methods)"
      ]
     },
     "metadata": {},
     "output_type": "display_data"
    }
   ],
   "source": [
    "function ∈(a::Real, b::Intervalo)\n",
    "    isinf(a) && return false\n",
    "    b.infimo ≤ a ≤ b.supremo\n",
    "end "
   ]
  },
  {
   "cell_type": "code",
   "execution_count": 14,
   "id": "8bd0845f",
   "metadata": {},
   "outputs": [
    {
     "data": {
      "text/plain": [
       "+ (generic function with 209 methods)"
      ]
     },
     "metadata": {},
     "output_type": "display_data"
    }
   ],
   "source": [
    "function +(a::Intervalo, b::Intervalo)\n",
    "    return Intervalo(prevfloat(a.infimo + b.infimo), nextfloat(a.supremo + b.supremo))\n",
    "end\n",
    "    \n",
    "function +(a::Real, b::Intervalo)\n",
    "    return Intervalo(a) + b\n",
    "end\n",
    "    \n",
    "function +(a::Intervalo, b::Real)\n",
    "    return a + Intervalo(b)\n",
    "end"
   ]
  },
  {
   "cell_type": "code",
   "execution_count": 15,
   "id": "25cf6f9b",
   "metadata": {},
   "outputs": [
    {
     "data": {
      "text/plain": [
       "- (generic function with 215 methods)"
      ]
     },
     "metadata": {},
     "output_type": "display_data"
    }
   ],
   "source": [
    "function -(a::Intervalo, b::Intervalo)\n",
    "    return Intervalo(prevfloat(a.infimo - b.supremo), nextfloat(a.supremo - b.infimo))\n",
    "end\n",
    "    \n",
    "function -(a::Real, b::Intervalo)\n",
    "    return Intervalo(a) - b\n",
    "end\n",
    "    \n",
    "function -(a::Intervalo, b::Real)\n",
    "    return a - Intervalo(b)\n",
    "end\n",
    "    \n",
    "function -(a::Intervalo)\n",
    "    return Intervalo(-a.supremo, -a.infimo)\n",
    "end"
   ]
  },
  {
   "cell_type": "code",
   "execution_count": 16,
   "id": "6dd9bf13",
   "metadata": {},
   "outputs": [
    {
     "data": {
      "text/plain": [
       "iszero (generic function with 15 methods)"
      ]
     },
     "metadata": {},
     "output_type": "display_data"
    }
   ],
   "source": [
    "function iszero(a::Intervalo)\n",
    "    return a == Intervalo(0.0)\n",
    "end"
   ]
  },
  {
   "cell_type": "code",
   "execution_count": 17,
   "id": "db216efd",
   "metadata": {},
   "outputs": [
    {
     "data": {
      "text/plain": [
       "* (generic function with 323 methods)"
      ]
     },
     "metadata": {},
     "output_type": "display_data"
    }
   ],
   "source": [
    "function *(a::Intervalo, b::Intervalo)\n",
    "    (isempty(a) || isempty(b)) && return Intervalo(NaN)\n",
    "    (iszero(a) || iszero(b)) && return Intervalo(0.0)    \n",
    "    l1 = (prevfloat(a.infimo*b.infimo), prevfloat(a.infimo*b.supremo), prevfloat(a.supremo*b.infimo), prevfloat(a.supremo*b.supremo))\n",
    "    l2 = (nextfloat(a.infimo*b.infimo), nextfloat(a.infimo*b.supremo), nextfloat(a.supremo*b.infimo), nextfloat(a.supremo*b.supremo))\n",
    "    return Intervalo(minimum(l1),maximum(l2))\n",
    "end\n",
    "\n",
    "function *(a::Real, b::Intervalo)\n",
    "    return Intervalo(prevfloat(a*b.infimo), nextfloat(a*b.supremo))\n",
    "end\n",
    "    \n",
    "function *(a::Intervalo, b::Real)\n",
    "    return Intervalo(prevfloat(a.infimo*b), nextfloat(a.supremo*b))\n",
    "end"
   ]
  },
  {
   "cell_type": "code",
   "execution_count": 18,
   "id": "5871f919",
   "metadata": {},
   "outputs": [
    {
     "data": {
      "text/plain": [
       "^ (generic function with 69 methods)"
      ]
     },
     "metadata": {},
     "output_type": "display_data"
    }
   ],
   "source": [
    "function ^(a::Intervalo, b::Int)\n",
    "    b < 0 && return inv(a^b)\n",
    "    b == 1 && return a\n",
    "    \n",
    "    c = min(a.infimo^b, a.supremo^b)\n",
    "    d = max(a.infimo^b, a.supremo^b)\n",
    "    \n",
    "    iseven(b) && 0 ∈ a && return Intervalo(0, nextfloat(d))\n",
    "    iseven(b) && return Intervalo(prevfloat(c), nextfloat(d)) ∩ Intervalo(0, Inf)\n",
    "    return Intervalo(prevfloat(c), nextfloat(d))  \n",
    "end"
   ]
  },
  {
   "cell_type": "code",
   "execution_count": 19,
   "id": "e84ba474",
   "metadata": {},
   "outputs": [
    {
     "data": {
      "text/plain": [
       "inv (generic function with 34 methods)"
      ]
     },
     "metadata": {},
     "output_type": "display_data"
    }
   ],
   "source": [
    "function inv(a::Intervalo)\n",
    "    iszero(a) && return Intervalo(NaN)\n",
    "    return Intervalo(1.0)/a\n",
    "end"
   ]
  },
  {
   "cell_type": "code",
   "execution_count": 20,
   "id": "98a302ba",
   "metadata": {},
   "outputs": [
    {
     "data": {
      "text/plain": [
       "/ (generic function with 140 methods)"
      ]
     },
     "metadata": {},
     "output_type": "display_data"
    }
   ],
   "source": [
    "function /(a::Intervalo, b::Intervalo)\n",
    "    0 ∉ b && return a*Intervalo(1/b.supremo,1/b.infimo)\n",
    "    b.infimo < 0.0 < b.supremo && return Intervalo(-Inf, Inf)\n",
    "    0.0 == b.infimo < b.supremo && return Intervalo(prevfloat(min(a.infimo*(1/b.supremo), a.supremo*(1/b.supremo))), Inf)\n",
    "    b.infimo < b.supremo == 0.0 && return Intervalo(-Inf, nextfloat(max(a.infimo*(1/b.infimo), a.supremo*(1/b.infimo))))       \n",
    "    iszero(b) && return Intervalo(NaN)\n",
    "end\n",
    "    \n",
    "function /(a::Real, b::Intervalo)\n",
    "    a == 1 && return inv(b)\n",
    "end"
   ]
  },
  {
   "cell_type": "code",
   "execution_count": 21,
   "id": "21efdb98",
   "metadata": {},
   "outputs": [
    {
     "data": {
      "text/plain": [
       "division_extendida (generic function with 1 method)"
      ]
     },
     "metadata": {},
     "output_type": "display_data"
    }
   ],
   "source": [
    "function division_extendida(a::Intervalo, b::Intervalo)\n",
    "    0∉b && return (a/b,)\n",
    "    0∈a && 0∈b && return (Intervalo(-Inf, Inf),)\n",
    "    a.supremo < 0 && b.infimo < b.supremo == 0 &&return (Intervalo(a.supremo/b.infimo, Inf),)\n",
    "    a.supremo < 0 && b.infimo < 0 <  b.supremo && return (Intervalo(-Inf, nextfloat(a.supremo/b.supremo)) , (Intervalo(prevfloat(a.supremo/b.infimo), Inf)))\n",
    "    a.supremo < 0 && 0 == b.infimo < b.supremo && return (Intervalo(-Inf, a.supremo/b.supremo),)\n",
    "    0 < a.infimo && b.infimo < b.supremo == 0 && return (Intervalo(-Inf, nextfloat(a.infimo/b.infimo)),)\n",
    "    0 < a.infimo && b.infimo < 0 < b.supremo && return (Intervalo(-Inf, nextfloat(a.infimo/b.infimo)) , (Intervalo(prevfloat(a.infimo/b.supremo), Inf)))\n",
    "    0 < a.infimo && 0 == b.infimo < b.supremo && return (Intervalo(prevfloat(a.infimo/b.supremo), Inf),)\n",
    "    0∉a && iszero(b) && return (Intervalo(NaN),)\n",
    "end"
   ]
  },
  {
   "cell_type": "code",
   "execution_count": 89,
   "id": "b796a914",
   "metadata": {},
   "outputs": [
    {
     "name": "stdout",
     "output_type": "stream",
     "text": [
      "\u001b[0m\u001b[1mTest Summary: | \u001b[22m\u001b[32m\u001b[1mPass  \u001b[22m\u001b[39m\u001b[36m\u001b[1mTotal  \u001b[22m\u001b[39m\u001b[0m\u001b[1mTime\u001b[22m\n",
      "Tarea1        | \u001b[32m  90  \u001b[39m\u001b[36m   90  \u001b[39m\u001b[0m0.4s\n"
     ]
    },
    {
     "data": {
      "text/plain": [
       "Test.DefaultTestSet(\"Tarea1\", Any[Test.DefaultTestSet(\"Creación de intervalos\", Any[], 16, false, false, true, 1.668043444747e9, 1.668043444747e9), Test.DefaultTestSet(\"Operaciones de conjuntos\", Any[], 28, false, false, true, 1.668043444747e9, 1.668043444748e9), Test.DefaultTestSet(\"Operaciones aritméticas\", Any[], 46, false, false, true, 1.668043444748e9, 1.668043445116e9)], 0, false, false, true, 1.668043444747e9, 1.668043445116e9)"
      ]
     },
     "execution_count": 89,
     "metadata": {},
     "output_type": "execute_result"
    }
   ],
   "source": [
    "using Test\n",
    "\n",
    "# using Intervalos\n",
    "\n",
    "@testset \"Tarea1\" begin\n",
    "\n",
    "    u = Intervalo(1.0)\n",
    "    z = Intervalo(0.0)\n",
    "    a = Intervalo(1.5, 2.5)\n",
    "    b = Intervalo(1, 3)\n",
    "    c = Intervalo(BigFloat(\"0.1\"), big(0.1))\n",
    "    d = Intervalo(-1, 1)\n",
    "    f = Intervalo(prevfloat(Inf))\n",
    "    emptyFl = intervalo_vacio(Float64)\n",
    "    emptyB = intervalo_vacio(BigFloat)\n",
    "    realesFl = Intervalo(-Inf,Inf)\n",
    "\n",
    "    @testset \"Creación de intervalos\" begin\n",
    "        @test typeof(a) == Intervalo{Float64}\n",
    "        @test getfield(a, :infimo) == 1.5\n",
    "        @test getfield(a, :supremo) == 2.5\n",
    "\n",
    "        @test typeof(b) == Intervalo{Float64}\n",
    "        @test getfield(b, :infimo) == 1.0\n",
    "        @test getfield(b, :supremo) == 3.0\n",
    "\n",
    "        @test typeof(c) == Intervalo{BigFloat}\n",
    "        @test getfield(c, :infimo) == BigFloat(\"0.1\")\n",
    "        @test getfield(c, :supremo) == big(0.1)\n",
    "\n",
    "        @test typeof(emptyFl) == Intervalo{Float64}\n",
    "        @test typeof(emptyB) == Intervalo{BigFloat}\n",
    "        @test typeof(realesFl) == Intervalo{Float64}\n",
    "        @test getfield(realesFl, :supremo) == Inf\n",
    "\n",
    "        @test u == Intervalo(1.0)\n",
    "        @test z == Intervalo(0.0)\n",
    "        @test z == Intervalo(big(0.0))\n",
    "    end\n",
    "\n",
    "    @testset \"Operaciones de conjuntos\" begin\n",
    "        @test a == a\n",
    "        @test a !== b\n",
    "        @test c == c\n",
    "        @test emptyFl == emptyB\n",
    "        @test a ⊆ a\n",
    "        @test a ⊆ b\n",
    "        @test emptyFl ⊆ b\n",
    "        @test b ⊇ a\n",
    "        @test c ⊆ c\n",
    "        @test !(a ⊆ emptyFl)\n",
    "        @test !(emptyB ⊇ c)\n",
    "        @test !(c ⊆ b) && !(b ⊆ c)\n",
    "        @test a ⪽ b\n",
    "        @test emptyFl ⪽ b\n",
    "        @test !(c ⪽ c)\n",
    "        @test a ∪ b == b\n",
    "        @test a ⊔ b == b\n",
    "        @test a ∪ emptyFl == a\n",
    "        @test c ⊔ emptyB == c\n",
    "        @test a ∩ b == a\n",
    "        @test a ∩ emptyFl == emptyFl\n",
    "        @test a ∩ c == emptyB\n",
    "        @test 0 ∈ z\n",
    "        @test Inf ∉ realesFl\n",
    "        @test Inf ∉ emptyFl\n",
    "        @test 2 ∈ a\n",
    "        @test 3 ∉ a\n",
    "        @test 0.1 ∈ c\n",
    "    end\n",
    "\n",
    "    @testset \"Operaciones aritméticas\" begin\n",
    "        @test emptyFl + z == emptyFl\n",
    "        @test z + z == Intervalo(prevfloat(0.0), nextfloat(0.0))\n",
    "        @test u + z == u + 0.0\n",
    "        @test z - u == 0.0-u\n",
    "        @test -u == Intervalo(-u.supremo, -u.infimo)\n",
    "        @test f + f !== intervalo_vacio(f)\n",
    "        @test f + f == Intervalo(f.infimo, Inf)\n",
    "        @test getfield(f + f, :supremo) == Inf\n",
    "        @test -u ⪽ z - u\n",
    "        @test b + 1 == 1.0 + b == Intervalo(prevfloat(2.0), nextfloat(4.0))\n",
    "        @test d ⪽ 2*(a - 2)\n",
    "        @test c - 0.1 !== z\n",
    "        @test emptyFl * z == emptyFl\n",
    "        @test Intervalo(0.1, 0.1) ⪽ 0.1 * u\n",
    "        @test Intervalo(-0.1, 0.1) ⪽ d * 0.1\n",
    "        @test d * (a + b) ⊆ d*a + d*b\n",
    "        @test d^1 == d\n",
    "        @test d^2 == Intervalo(0, nextfloat(1.0))\n",
    "        @test emptyB^2 == emptyB\n",
    "        @test emptyFl^3 == emptyFl\n",
    "        @test Intervalo(0,Inf) * u == Intervalo(prevfloat(0.0), Inf)\n",
    "        @test Intervalo(-Inf,Inf) * z == z\n",
    "        @test emptyFl * z == emptyFl\n",
    "        @test d ⪽ d*d\n",
    "        @test d ⪽ d^3\n",
    "        @test d^4 == d^2\n",
    "        @test Intervalo(-0.25,0.5)^2 == (-Intervalo(-0.25,0.5))^2 == Intervalo(0.0, 0.5)^2\n",
    "        @test Intervalo(-0.25,0.5)^3 == -(-Intervalo(-0.25,0.5))^3 == Intervalo(prevfloat(-1/2^6), nextfloat((1/2^3)))\n",
    "        @test a / emptyFl == emptyFl\n",
    "        @test emptyB / c == emptyB\n",
    "        @test emptyFl / emptyFl == emptyFl\n",
    "        @test u/d == Intervalo(-Inf, Inf)\n",
    "        @test inv(Intervalo(0.0)) == emptyFl\n",
    "        @test 0.5 ∈ u/a\n",
    "        @test 1 ∈ a/a\n",
    "        @test c^-1 == 1/c\n",
    "        @test inv(a) == 1/a\n",
    "        @test (a-1)*(a-2) ⪽ (a*a -3*a + 3)\n",
    "        @test a/d == Intervalo(-Inf, Inf)\n",
    "        @test z/z == intervalo_vacio(z)\n",
    "        @test u ⪽ 1/u\n",
    "        @test all(division_extendida(u,z) .== (emptyFl,))\n",
    "        @test all(division_extendida(z,z) .== (Intervalo(-Inf,Inf),))\n",
    "        @test all(division_extendida(u,u) .== (u/u,))\n",
    "        @test all(division_extendida(u, Intervalo(0,1)) .== (u/Intervalo(0,1),))\n",
    "        @test all(division_extendida(u,d) .== (u/Intervalo(-1,0), u/Intervalo(0,1)))\n",
    "    end\n",
    "\n",
    "end"
   ]
  },
  {
   "cell_type": "code",
   "execution_count": null,
   "id": "2812880a",
   "metadata": {},
   "outputs": [],
   "source": []
  },
  {
   "cell_type": "code",
   "execution_count": null,
   "id": "001171c6",
   "metadata": {},
   "outputs": [],
   "source": []
  }
 ],
 "metadata": {
  "kernelspec": {
   "display_name": "Julia 1.8.2",
   "language": "julia",
   "name": "julia-1.8"
  },
  "language_info": {
   "file_extension": ".jl",
   "mimetype": "application/julia",
   "name": "julia",
   "version": "1.8.2"
  }
 },
 "nbformat": 4,
 "nbformat_minor": 5
}
